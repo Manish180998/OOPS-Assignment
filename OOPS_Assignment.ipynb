{
  "nbformat": 4,
  "nbformat_minor": 0,
  "metadata": {
    "colab": {
      "provenance": []
    },
    "kernelspec": {
      "name": "python3",
      "display_name": "Python 3"
    },
    "language_info": {
      "name": "python"
    }
  },
  "cells": [
    {
      "cell_type": "markdown",
      "source": [
        "### Theory questions\n",
        "---"
      ],
      "metadata": {
        "id": "jhkfzbKKi2Mq"
      }
    },
    {
      "cell_type": "markdown",
      "source": [
        "**Ques.1 What is Object-Oriented Programming (OOP)**\n",
        "\n",
        "**Ans.** Object-Oriented Programming (OOP) is a way of writing code that focuses on objects—things that have data (like a person’s name and age) and actions (like walking or talking). Instead of just writing a list of instructions, OOP helps organize code into reusable and manageable pieces.  \n",
        "\n",
        "Think of a **class** as a blueprint, like a recipe for a cake. It defines what an object should have and do, but it’s not the actual cake. An **object** is the actual cake you bake using that recipe—it follows the blueprint but has its own unique details.  \n",
        "\n",
        "OOP has some important principles. **Encapsulation** keeps certain details hidden, like how a phone works internally, while only showing what’s needed, like buttons on the screen. **Abstraction** focuses on what’s important—like driving a car without worrying about how the engine works. **Inheritance** lets one object take features from another, just like a child inheriting traits from a parent. **Polymorphism** allows one thing to take different forms, like a single word meaning different things in different sentences.  \n",
        "\n",
        "Using OOP makes coding easier to manage, reuse, and scale. It’s used in languages like Python, Java, and C++, helping developers build everything from simple apps to complex systems efficiently.\n",
        "\n",
        "---"
      ],
      "metadata": {
        "id": "XYw6wzc5Knai"
      }
    },
    {
      "cell_type": "markdown",
      "source": [
        "**Ques.2 What is a class in OOP**\n",
        "\n",
        "**Ans.** A **class** in Object-Oriented Programming (OOP) is like a blueprint or a recipe—it defines what something should be like, but it’s not the actual thing itself. Imagine you want to build a house. The blueprint tells you how many rooms it should have, where the doors and windows go, and what materials to use, but it’s not a real house until you build one.  \n",
        "\n",
        "Similarly, a class defines the structure and behavior of something, but it doesn’t exist until you create an **object** from it. For example, if you have a **Car** class, it might define things like color, brand, and speed, as well as actions like driving and braking. But the actual car you drive—say, a red Tesla—is an **object** made from that class.  \n",
        "\n",
        "Classes help organize code by grouping related things together, making it easier to manage, reuse, and understand. In simple terms, a class is the **idea** of something, and an object is the **real-world version** of it.\n",
        "\n",
        "---"
      ],
      "metadata": {
        "id": "LUHkBSeYXpfO"
      }
    },
    {
      "cell_type": "markdown",
      "source": [
        "**Ques.3 What is an object in OOP**\n",
        "\n",
        "**Ans.** An **object** in Object-Oriented Programming (OOP) is a real-world thing created from a **class**. If a class is like a blueprint for a house, then an object is an actual house built using that blueprint.  \n",
        "\n",
        "For example, imagine you have a **Car** class that defines things like color, brand, and speed, along with actions like driving and braking. A real car, like a **red Tesla**, is an object created from that class. Another car, like a **blue BMW**, is another object from the same class but with different details.  \n",
        "\n",
        "Objects allow you to create multiple things using the same structure while keeping their data separate. This makes programming more organized and efficient. Simply put, **a class is the idea, and an object is the real thing you can use**.\n",
        "\n",
        "---"
      ],
      "metadata": {
        "id": "H0sGWvZEYCgw"
      }
    },
    {
      "cell_type": "markdown",
      "source": [
        "**Ques.4 What is the difference between abstraction and encapsulation**\n",
        "\n",
        "**Ans.** **Abstraction** and **Encapsulation** are both ways to hide complexity, but they focus on different things.\n",
        "\n",
        "**Abstraction** is about hiding the **details** of how something works and showing only what’s necessary. It's like when you drive a car—you don’t need to know how the engine runs, just how to operate the steering wheel, pedals, and buttons. In programming, abstraction means you create a simple interface to interact with something, without exposing the complicated inner workings. For example, in a **TV**, you just press a button to turn it on, but you don’t need to know the electronics inside.\n",
        "\n",
        "**Encapsulation**, on the other hand, is about **protecting the data** inside an object. It bundles everything together and restricts direct access to the internal workings. Imagine a TV remote: you can control the TV, but you don’t have access to how the TV is built or how it processes your commands. In coding, encapsulation ensures that sensitive data, like a bank balance, can only be accessed or changed through specific methods, like `deposit()` or `withdraw()`.\n",
        "\n",
        "**Key Difference:**\n",
        "- **Abstraction** is about hiding complexity and focusing on what’s important.\n",
        "- **Encapsulation** is about bundling data and controlling access to it to keep things safe and organized.\n",
        "\n",
        "---"
      ],
      "metadata": {
        "id": "AbhQYzWhYmiT"
      }
    },
    {
      "cell_type": "markdown",
      "source": [
        "**Ques.5 What are dunder methods in Python**\n",
        "\n",
        "**Ans.** In Python, **dunder methods** (short for \"double underscore\" methods) are special methods that have double underscores before and after their name, like `__init__`, `__str__`, and `__len__`. These methods let you customize how objects in your code behave when you interact with them in certain ways, like printing them or performing operations on them.\n",
        "\n",
        "For example:\n",
        "- **`__init__`** is the method that gets called when you create a new object. It’s like the setup for an object, initializing its values.\n",
        "- **`__str__`** defines how the object should be shown as a string. This is used when you try to print the object. For instance, you can tell Python what to display when you print your custom object.\n",
        "- **`__len__`** is used to define what happens when you call `len()` on your object. If you have a custom class like a list, you can tell Python how many items your object should count.\n",
        "\n",
        "These special methods allow you to change how your objects interact with built-in Python functions or operators. For example, you could tell Python how two objects should be added together or compared for equality.\n",
        "\n",
        "Here’s an example in simple terms:\n",
        "Imagine you have a **Point** class to represent a point in 2D space. You can use the **`__str__`** method to control how the point is displayed when you print it. You can also use the **`__add__`** method to define how to add two points together.\n",
        "\n",
        "### Example:\n",
        "```python\n",
        "class Point:\n",
        "    def __init__(self, x, y):\n",
        "        self.x = x\n",
        "        self.y = y\n",
        "\n",
        "    def __str__(self):\n",
        "        return f\"Point({self.x}, {self.y})\"\n",
        "\n",
        "    def __add__(self, other):\n",
        "        return Point(self.x + other.x, self.y + other.y)\n",
        "\n",
        "p1 = Point(2, 3)\n",
        "p2 = Point(4, 5)\n",
        "\n",
        "print(p1)         # Output: Point(2, 3)\n",
        "p3 = p1 + p2      # Adds p1 and p2 using the __add__ method\n",
        "print(p3)         # Output: Point(6, 8)\n",
        "```\n",
        "\n",
        "In simple terms, **dunder methods** allow you to control how your objects behave in Python, making them work smoothly with things like printing, adding, and comparing objects.\n",
        "\n",
        "---"
      ],
      "metadata": {
        "id": "NC1f5freYr-e"
      }
    },
    {
      "cell_type": "markdown",
      "source": [
        "**Ques.6 Explain the concept of inheritance in OOP**\n",
        "\n",
        "**Ans.** In Object-Oriented Programming (OOP), **inheritance** is like creating a new class based on an existing one. The new class, called a **child class**, **inherits** the features and behaviors (attributes and methods) of an existing class, called the **parent class**. This means that the child class can use everything the parent class has without having to rewrite the same code. It can also add its own features or modify the inherited ones.\n",
        "\n",
        "For example, think about a **Vehicle** class. A car **is-a** vehicle, so the **Car** class can inherit from the **Vehicle** class. This way, the **Car** class automatically gets the general behaviors and characteristics of a vehicle, like having a color or being able to move, but it can also add unique features, like having a horn or air conditioning.\n",
        "\n",
        "**Real-Life Example:**\n",
        "Imagine you have a **Vehicle** class that describes general features of any vehicle, like its color or type. Then, you have a **Car** class that inherits from the **Vehicle** class, so it automatically gets those general features but can also add specific behaviors, like honking the horn. Similarly, a **Bike** class could inherit from **Vehicle** and have its own features like ringing a bell.\n",
        "\n",
        "**Why Is Inheritance Useful?**\n",
        "- **Code Reusability**: Instead of writing the same code over and over, you can reuse the code from the parent class in the child class.\n",
        "- **Easy to Update**: If you need to change something that all vehicles have in common (like how they move), you only need to change it in the parent class, and the changes will apply to all the child classes that inherit from it.\n",
        "- **Organization**: It keeps things clean and organized by grouping common features in a parent class, while letting each child class specialize in its own way.\n",
        "\n",
        "In short, inheritance lets you build on top of existing classes, making your code more efficient, organized, and easier to maintain.\n",
        "\n",
        "---"
      ],
      "metadata": {
        "id": "ZzxsK_S2Ywrr"
      }
    },
    {
      "cell_type": "markdown",
      "source": [
        "**Ques.7 What is polymorphism in OOP**\n",
        "\n",
        "**Ans.** **Polymorphism** in Object-Oriented Programming (OOP) is the idea that the same method or function name can work in different ways, depending on the type of object it's being used with. It literally means \"many forms,\" and in programming, it means one method can perform different actions based on the object it's acting upon.\n",
        "\n",
        "For example, imagine you have a **Shape** class with a method called `draw()`. Then, you have different types of shapes, like **Circle** and **Square**, and each one has its own version of the `draw()` method. Even though they all use the same method name, each shape draws itself differently.\n",
        "\n",
        "**Real-Life Example:**\n",
        "Think of a **vehicle** class with a method called `start_engine()`. Now, you could have different types of vehicles like **Car**, **Truck**, or **Motorcycle**. Each vehicle would have its own version of how to start the engine, but they all share the same method name, `start_engine()`. Depending on the object (Car, Truck, etc.), the method will behave differently, even though the name is the same.\n",
        "\n",
        "**Why Is Polymorphism Useful?**\n",
        "- **Flexibility**: You don’t need to create different method names for each type of object; you can use the same method name, and it will automatically work according to the type of object.\n",
        "- **Code Reusability**: You can write code that works with any object of a certain class or subclass without having to worry about its specific type.\n",
        "- **Maintainability**: It makes the code easier to understand and maintain because you avoid repeating the same logic with different method names.\n",
        "\n",
        "In short, polymorphism makes your code more flexible and allows you to use the same method to do different things depending on the object you're working with.\n",
        "\n",
        "---"
      ],
      "metadata": {
        "id": "AX-TFZiXY33s"
      }
    },
    {
      "cell_type": "markdown",
      "source": [
        "**Ques.8 How is encapsulation achieved in Python**\n",
        "\n",
        "**Ans.** **Encapsulation** in Python is a way of keeping an object’s data safe by grouping both the data (attributes) and the functions (methods) that manipulate the data together in a class, while also controlling access to certain parts of the object. It helps protect the object’s internal state from being changed directly from outside the class, which ensures the object behaves correctly.\n",
        "\n",
        "In Python, encapsulation is achieved using naming conventions. By default, all attributes and methods are public, meaning they can be accessed from outside the class. However, if you want to make an attribute or method private (meaning it should not be accessed directly from outside the class), you prefix it with two underscores (`__`). For example, an attribute like `self.__balance` would be considered private.\n",
        "\n",
        "Although Python doesn’t strictly prevent access to private attributes, the naming convention makes it clear that they should not be accessed directly. Instead, you can use **getter** and **setter** methods, which are functions that allow controlled access to private attributes. For instance, a method like `get_balance()` could be used to retrieve the value of a private attribute like `__balance`, ensuring that the balance is always accessed or modified in a safe way.\n",
        "\n",
        "Encapsulation is important because it protects the data inside an object, prevents accidental changes, and ensures that the object’s internal state remains valid. By hiding the details and controlling how the data is accessed or modified, you make the code more secure, maintainable, and easier to work with.\n",
        "\n",
        "---"
      ],
      "metadata": {
        "id": "8DItX274ax5m"
      }
    },
    {
      "cell_type": "markdown",
      "source": [
        "**Ques.9 What is a constructor in Python**\n",
        "\n",
        "**Ans.** A **constructor** in Python is a special method that runs automatically when a new object of a class is created. It’s used to initialize the object's attributes, meaning it sets up the initial state of the object by giving values to its properties. The constructor is defined using the `__init__()` method, and it ensures that when an object is created, it’s ready to be used with all the necessary information it needs.\n",
        "\n",
        "When you create an object, Python calls the `__init__()` method and passes the object itself (represented by `self`) as the first argument, along with any additional arguments you provide. This allows you to customize the initial values of the object’s attributes. For example, if you're creating a **Person** class, the constructor can take values like name and age to set those attributes when a new person object is created.\n",
        "\n",
        "The constructor makes sure that every time you create an object, it starts off in a valid state, with all its necessary information properly set. Without a constructor, objects might not have the correct attributes or might not be usable immediately after creation.\n",
        "\n",
        "---"
      ],
      "metadata": {
        "id": "0pjwX7YEbD5o"
      }
    },
    {
      "cell_type": "markdown",
      "source": [
        "**Ques.10 What are class and static methods in Python**\n",
        "\n",
        "**Ans.** In Python, **class methods** and **static methods** are special types of methods that differ from regular instance methods, and each serves a unique purpose.\n",
        "\n",
        "A **class method** is a method that is bound to the class itself, not to an instance of the class. It takes the class (`cls`) as its first argument, instead of the instance (`self`). This allows class methods to operate on class-level attributes or perform actions that are related to the class as a whole, rather than any specific object. Class methods are often used for factory methods or to modify class-level data. To define a class method, you use the `@classmethod` decorator.\n",
        "\n",
        "A **static method**, on the other hand, is not bound to either the class or the instance. It does not take `self` or `cls` as the first argument, making it behave like a regular function that just happens to be part of the class. Static methods are useful for performing actions that are related to the class but don't need access to its attributes or methods. Static methods are defined using the `@staticmethod` decorator.\n",
        "\n",
        "**Why are these methods important?**\n",
        "- **Class methods** are great for when you want to modify or work with class-level attributes or create instances of the class without needing an instance of the class itself.\n",
        "- **Static methods** are helpful for utility functions that logically belong to the class, but don’t need to interact with class or instance-specific data.\n",
        "\n",
        "In summary, class methods operate on the class itself, while static methods are self-contained functions that belong to the class but don't interact with it directly.\n",
        "\n",
        "---"
      ],
      "metadata": {
        "id": "WgXeqK0jbmf9"
      }
    },
    {
      "cell_type": "markdown",
      "source": [
        "**Ques.11 What is method overloading in Python**\n",
        "\n",
        "**Ans.** **Method overloading** in Python refers to the idea of having multiple methods with the same name but different parameters. However, unlike some other programming languages like Java or C++, Python doesn’t support this directly. If you define a method with the same name multiple times in Python, the last definition will simply overwrite the previous ones.\n",
        "\n",
        "Even though Python doesn’t have built-in support for method overloading, you can achieve similar functionality by using **default arguments** or **variable-length arguments**. Default arguments allow you to set optional parameters for a method, so you can call it with either one or more arguments. On the other hand, by using `*args` or `**kwargs`, you can make the method accept any number of arguments, giving you flexibility in how you use the method.\n",
        "\n",
        "In essence, while Python doesn’t allow you to define multiple methods with the same name based on different parameters, you can still achieve similar results by using these techniques, allowing the method to handle different kinds of inputs in a flexible way.\n",
        "---"
      ],
      "metadata": {
        "id": "AV6CU5MvcTcw"
      }
    },
    {
      "cell_type": "markdown",
      "source": [
        "**Ques.12 What is method overriding in OOP**\n",
        "\n",
        "**Ans.** **Method overriding** in OOP happens when a child class defines a method with the same name and parameters as a method in its parent class, but with a different or updated implementation. This allows the child class to \"override\" the behavior of the parent class method, providing its own version that is more suitable or specific to its needs.\n",
        "\n",
        "The key idea behind method overriding is that the child class can customize or extend the functionality of a method it inherited from the parent class. Even though the method name and parameters stay the same, the child class can define exactly how that method works. This is a powerful feature in OOP because it allows objects of different classes to use the same method name but behave differently depending on the class.\n",
        "\n",
        "In simple terms, method overriding lets a child class change or improve the behavior of a method it gets from the parent class, giving it the flexibility to meet its specific requirements.\n",
        "---"
      ],
      "metadata": {
        "id": "m13EFepZchdY"
      }
    },
    {
      "cell_type": "markdown",
      "source": [
        "**Ques.13 What is a property decorator in Python**\n",
        "\n",
        "**Ans.** A **property decorator** in Python allows you to make a method behave like an attribute, meaning you can access it without using parentheses, just like any regular attribute. This is helpful when you want to control how a value is retrieved, set, or deleted, but still want to present it as a simple attribute. By using the `@property` decorator, you can hide the complexity of your methods while keeping things neat and easy to use.\n",
        "\n",
        "With a property decorator, you can define a **getter** method, which is used to get the value, a **setter** method, which lets you set the value with extra checks or logic, and a **deleter** method, which can define what happens when the value is deleted. This lets you manage how attributes are accessed or modified, while still making it feel like a regular attribute.\n",
        "\n",
        "In short, property decorators give you the ability to add logic and validation to attributes without exposing that complexity to the user, making your code more organized and easier to use.\n",
        "\n",
        "---"
      ],
      "metadata": {
        "id": "6SikMjEKdANi"
      }
    },
    {
      "cell_type": "markdown",
      "source": [
        "**Ques.14 Why is polymorphism important in OOP**\n",
        "\n",
        "**Ans.** **Polymorphism** is a key concept in Object-Oriented Programming (OOP) that makes it possible for different objects to respond to the same method in their own way. Essentially, it allows you to treat different types of objects in a consistent manner, even though each object may behave differently when the same method is called. This flexibility is incredibly useful because it allows the same code to work with different types of objects without needing to be rewritten for each one.\n",
        "\n",
        "Polymorphism is important because it **reduces repetition** in code. Instead of writing separate methods for each object type, you can use one method that works for all of them. It also makes your code **more flexible** and **easier to extend**, as you can add new object types without changing the existing code. Additionally, polymorphism helps to keep code **simpler and easier to maintain**, because it eliminates complex checks or conditionals that would otherwise be needed to handle different object types. In short, polymorphism makes code more efficient, adaptable, and easier to understand.\n",
        "\n",
        "---"
      ],
      "metadata": {
        "id": "tozAU1fadboM"
      }
    },
    {
      "cell_type": "markdown",
      "source": [
        "**Ques.15 What is an abstract class in Python**\n",
        "\n",
        "**Ans.** An **abstract class** in Python is a special kind of class that you cannot create objects from directly. Instead, it's meant to be used as a blueprint for other classes. It defines certain methods that must be implemented in any subclass, ensuring that all subclasses follow a specific structure. You create an abstract class by using the `abc` (Abstract Base Class) module and marking methods that need to be implemented with the `@abstractmethod` decorator.\n",
        "\n",
        "The main idea behind an abstract class is to set rules or guidelines for how the subclasses should behave, but without providing a full implementation in the abstract class itself. This way, subclasses can add their own specific functionality while still maintaining a consistent interface. If you try to create an object of an abstract class directly, Python will give an error. Instead, you create objects from subclasses that have implemented the required methods.\n",
        "\n",
        "In short, an abstract class in Python helps enforce a consistent structure for subclasses, making sure they all implement certain methods, while preventing you from directly using the abstract class itself.\n",
        "\n",
        "---"
      ],
      "metadata": {
        "id": "gbUuRGJ1dmFZ"
      }
    },
    {
      "cell_type": "markdown",
      "source": [
        "**Ques.16 What are the advantages of OOP**\n",
        "\n",
        "**Ans.** The advantages of **Object-Oriented Programming (OOP)** make it a popular and effective way to write software. One of the main benefits is **modularity**, which means you can organize your code into different parts, called objects, that represent real-world things. This makes the code easier to understand and manage. Another advantage is **reusability**—you can reuse classes and objects in different parts of your program or in other projects, which saves time and effort.\n",
        "\n",
        "OOP also helps with **encapsulation**, which means keeping the data inside objects safe and controlled. You can manage how data is accessed or modified by using methods, reducing the risk of errors. Additionally, OOP supports **inheritance**, which allows new classes to take on features from existing ones. This way, you don’t have to repeat code and can easily extend the program’s functionality. Finally, **polymorphism** provides flexibility by allowing objects of different classes to be used in the same way, simplifying your code and making it easier to adapt to changes.\n",
        "\n",
        "In short, OOP makes your code cleaner, more organized, and easier to maintain. It lets you reuse code, protect data, extend functionality easily, and handle different objects in a flexible way, making the development process smoother and more efficient.\n",
        "\n",
        "---"
      ],
      "metadata": {
        "id": "K_aS53KneLZY"
      }
    },
    {
      "cell_type": "markdown",
      "source": [
        "\n",
        "**Ques.17 What is the difference between a class variable and an instance variable**\n",
        "\n",
        "**Ans.** The main difference between a **class variable** and an **instance variable** is how they are shared and accessed. A **class variable** is a variable that is shared by all objects created from the class. It's defined within the class itself (but outside of any methods), and every instance of that class has access to it. If one instance changes the value of a class variable, it changes for all other instances as well, because they all share the same value.\n",
        "\n",
        "On the other hand, an **instance variable** is specific to each individual object. It's usually defined inside the `__init__` method and holds values that can be different for each instance of the class. Each object created from the class has its own copy of the instance variable, so changing it in one object doesn’t affect others.\n",
        "\n",
        "In simple terms, **class variables** are shared across all objects, while **instance variables** are unique to each object.\n",
        "\n",
        "---"
      ],
      "metadata": {
        "id": "oICpfLdVe__S"
      }
    },
    {
      "cell_type": "markdown",
      "source": [
        "**Ques.18 What is multiple inheritance in Python**\n",
        "\n",
        "**Ans.** **Multiple inheritance** in Python is when a class can inherit features from more than one parent class. This means that a subclass can combine methods and attributes from multiple classes, which can be useful when you want to bring together different behaviors or characteristics into a single class.\n",
        "\n",
        "For example, if you have one class that defines how animals move and another class that defines how animals eat, a class that represents a specific type of animal could inherit from both of these parent classes to get both sets of behaviors. However, while this makes Python flexible, it can also get tricky, especially if different parent classes have methods with the same name. To handle this, Python uses something called **method resolution order (MRO)**, which ensures the right method gets called in a predictable way.\n",
        "\n",
        "In short, multiple inheritance allows a class to inherit from several classes, but it’s important to design the code carefully to avoid confusion or conflicts between the methods of different parent classes.\n",
        "\n",
        "---"
      ],
      "metadata": {
        "id": "VRDnulxAfEL_"
      }
    },
    {
      "cell_type": "markdown",
      "source": [
        "**Ques.19 Explain the purpose of ‘’__str__’ and ‘__repr__’ ‘ methods in Python**\n",
        "\n",
        "**Ans.** In Python, the **`__str__`** and **`__repr__`** methods are used to define how an object is displayed as a string, but they have different purposes. The **`__str__`** method is used to give a user-friendly description of an object. When you use `print()` or `str()` on an object, Python calls the `__str__` method to show a simple and easy-to-read string that describes the object, typically aimed at end-users.\n",
        "\n",
        "The **`__repr__`** method, on the other hand, is meant for a more detailed or technical string representation of the object. It is used mainly for debugging or logging, and its goal is to provide a string that can give developers enough information about the object’s state. Ideally, the string returned by `__repr__` could even be used to recreate the object. If `__str__` is not defined, Python will fall back to using `__repr__` when you print the object.\n",
        "\n",
        "In short, **`__str__`** is for a clear, simple string meant for users, while **`__repr__`** is for a detailed, precise string aimed at developers or for debugging.\n",
        "\n",
        "---"
      ],
      "metadata": {
        "id": "ykaKcpA2fIAk"
      }
    },
    {
      "cell_type": "markdown",
      "source": [
        "\n",
        "**Ques.20 What is the significance of the ‘super()’ function in Python**\n",
        "\n",
        "**Ans.** The **`super()`** function is often used when working with **inheritance** in Python, especially when you need to call a method from a parent class within a subclass. It simplifies the process of invoking a parent class’s method and allows you to extend or modify the inherited functionality without having to rewrite or explicitly reference the parent class. This can be particularly helpful in cases where a class might inherit from multiple parent classes, ensuring that the right method gets called according to Python’s **method resolution order (MRO)**.\n",
        "\n",
        "For example, if a subclass overrides a method from the parent class but still wants to use the original functionality from the parent class, `super()` can be used to call the parent method within the subclass. It’s also useful when you need to manage **multiple inheritance**—it helps to avoid calling methods from the same class more than once in a complex inheritance chain.\n",
        "\n",
        "Additionally, `super()` improves the maintainability of your code by reducing hard-coded class names, which makes it easier to modify or extend in the future. It also promotes better **polymorphism**, allowing you to write code that works across different classes without having to know the details of the parent class.\n",
        "\n",
        "---"
      ],
      "metadata": {
        "id": "k-q21zfMf1yh"
      }
    },
    {
      "cell_type": "markdown",
      "source": [
        "**Ques.21 What is the significance of the __del__ method in Python**\n",
        "\n",
        "**Ans.**\n",
        "The **`__del__`** method in Python is a special function, often referred to as a **destructor**, that is invoked when an object is about to be destroyed. It is called when there are no more references to the object, meaning it’s no longer being used or needed. This method can be useful for performing any cleanup tasks before the object is removed from memory.\n",
        "\n",
        "For instance, if an object has opened files, network connections, or other external resources, you may want to close or release those resources explicitly to avoid potential issues like memory leaks or locked resources. The **`__del__`** method provides a way to implement this cleanup functionality. In Python, while garbage collection usually handles memory management automatically, the `__del__` method gives you more control over how resources are cleaned up when the object is about to be destroyed.\n",
        "\n",
        "However, there are some important things to keep in mind when using `__del__`. It can be tricky to use in complex programs, especially if there are circular references—where objects reference each other in a cycle. Python’s garbage collector may not be able to clean up these objects immediately, and this can lead to issues with the `__del__` method. Additionally, relying too heavily on `__del__` for cleanup can sometimes introduce subtle bugs, so it’s often recommended to use context managers (via `with` statements) for managing resources when possible, as they provide a more predictable way to handle cleanup.\n",
        "\n",
        "In summary, the **`__del__`** method helps manage the destruction of objects and ensures that resources are cleaned up properly, but it should be used with caution in certain situations.\n",
        "\n",
        "---"
      ],
      "metadata": {
        "id": "ZUVFGDnsf6DL"
      }
    },
    {
      "cell_type": "markdown",
      "source": [
        "**Ques.22 What is the difference between @staticmethod and @classmethod in Python**\n",
        "\n",
        "**Ans.** The **`@staticmethod`** and **`@classmethod`** decorators in Python are used to define methods that aren’t tied to an instance of the class, but they behave differently.\n",
        "\n",
        "A **static method** (using `@staticmethod`) doesn’t take a reference to the class (`cls`) or the instance (`self`) as its first argument. This means it doesn’t have access to any of the instance or class-level data. Static methods are often used for utility functions that are related to the class, but don’t need to interact with the class or instance. They can be called directly on the class or through an instance, but they can only use the arguments passed to them, not any internal class or instance data.\n",
        "\n",
        "A **class method** (using `@classmethod`), on the other hand, takes the class (`cls`) as its first argument. This means it has access to the class-level data and can modify class variables. It can’t access individual instance data (unless an instance is passed to it), but it’s useful for operations that need to work with the class as a whole. Class methods are commonly used for factory methods, which create instances of the class.\n",
        "\n",
        "In short, the difference is that static methods don’t have access to the class or instance, making them more like regular functions tied to the class, while class methods have access to the class and are used for working with class-level data.\n",
        "\n",
        "---"
      ],
      "metadata": {
        "id": "4ENDhy_Zf-5l"
      }
    },
    {
      "cell_type": "markdown",
      "source": [
        "\n",
        "**Ques.23 How does polymorphism work in Python with inheritance**\n",
        "\n",
        "**Ans.** Polymorphism in Python allows objects of different classes to be treated as objects of a common superclass. It works with inheritance by letting different classes use the same method name, but each class can have its own version of that method. This is called **method overriding**. When you call a method on an object, Python will use the method that belongs to the object's class, even if you're calling it on the common superclass.\n",
        "\n",
        "For example, imagine you have a base class called `Animal` with a method `speak()`. Then, you create subclasses like `Dog` and `Cat`, each of which has its own version of the `speak()` method. When you call `speak()` on a `Dog` object, it will bark, and when you call it on a `Cat` object, it will meow, even though both objects are being treated as `Animal` types.\n",
        "\n",
        "This allows you to write code that can work with different types of objects and still get the right behavior based on the object’s actual class. It makes your code more flexible and reusable.\n",
        "\n",
        "---"
      ],
      "metadata": {
        "id": "oq3T9WLFh8DQ"
      }
    },
    {
      "cell_type": "markdown",
      "source": [
        "\n",
        "**Ques.24 What is method chaining in Python OOP**\n",
        "\n",
        "**Ans.**\n",
        "**Method chaining** is when you call multiple methods on the same object in one line of code. This is made possible because each method returns the object itself (`self`), allowing you to call the next method immediately after.\n",
        "\n",
        "For example, if you have a class `Calculator`, you could call `add()`, `subtract()`, and `multiply()` one after the other on the same object. Each method changes the state of the object, and then the next method can act on that updated state. Here’s an example:\n",
        "\n",
        "```python\n",
        "calc = Calculator()\n",
        "result = calc.add(5).subtract(2).multiply(3)\n",
        "```\n",
        "\n",
        "In this case, you're adding 5, subtracting 2, and multiplying by 3, all on the same object, without needing to repeatedly reference `calc`. This makes the code more compact and easier to read, especially when you're performing a series of operations on an object.\n",
        "\n",
        "---"
      ],
      "metadata": {
        "id": "GiIytPdOh_iW"
      }
    },
    {
      "cell_type": "markdown",
      "source": [
        "\n",
        "**Ques.25 What is the purpose of the __call__ method in Python?**\n",
        "\n",
        "**Ans.** The **`__call__`** method allows an object to be called like a function. When you define this method in a class, you can use parentheses on the object just as you would with a function.\n",
        "\n",
        "For example, if you create an object of a class and want to use it like a function, you can use the `__call__` method to define how that object should behave when it's \"called.\"\n",
        "\n",
        "Here’s a simple example:\n",
        "\n",
        "```python\n",
        "class Multiplier:\n",
        "    def __init__(self, factor):\n",
        "        self.factor = factor\n",
        "\n",
        "    def __call__(self, num):\n",
        "        return num * self.factor\n",
        "\n",
        "multiply_by_3 = Multiplier(3)\n",
        "result = multiply_by_3(5)  # Calling the object like a function\n",
        "```\n",
        "\n",
        "In this case, we created an object `multiply_by_3` that acts like a function. When we call `multiply_by_3(5)`, it multiplies 5 by 3, just as if we were calling a function.\n",
        "\n",
        "This feature is useful when you want an object to behave like a function, giving it more flexibility. It can be used for things like callback functions, decorators, or any situation where you want an object to be callable with specific behavior.\n",
        "\n",
        "---"
      ],
      "metadata": {
        "id": "-K7EiBDMiCp1"
      }
    },
    {
      "cell_type": "markdown",
      "source": [
        "### Practical Question\n",
        "---"
      ],
      "metadata": {
        "id": "ZnUAmyj2jFcX"
      }
    },
    {
      "cell_type": "code",
      "source": [
        "\"\"\"\n",
        "Ques. 1. Create a parent class Animal with a method speak() that prints a generic message. Create a child class Dog that overrides the speak() method to print \"Bark!\".\n",
        "Ans.\n",
        "\"\"\"\n",
        "# Parent class Animal\n",
        "class Animal:\n",
        "    def speak(self):\n",
        "        print(\"This animal makes a sound.\")\n",
        "\n",
        "# Child class Dog inherits from Animal\n",
        "class Dog(Animal):\n",
        "    def speak(self):\n",
        "        print(\"Bark!\")\n",
        "\n",
        "# Creating instances of each class\n",
        "animal = Animal()\n",
        "dog = Dog()\n",
        "\n",
        "# Calling the speak method on both objects\n",
        "animal.speak()  # Output: This animal makes a sound.\n",
        "dog.speak()     # Output: Bark!"
      ],
      "metadata": {
        "colab": {
          "base_uri": "https://localhost:8080/"
        },
        "id": "1-HVZopTjoP0",
        "outputId": "b640082e-c239-40aa-e9c2-f5ff14373458"
      },
      "execution_count": 1,
      "outputs": [
        {
          "output_type": "stream",
          "name": "stdout",
          "text": [
            "This animal makes a sound.\n",
            "Bark!\n"
          ]
        }
      ]
    },
    {
      "cell_type": "code",
      "source": [
        "\"\"\"\n",
        "Ques. 2. Write a program to create an abstract class Shape with a method area(). Derive classes Circle and Rectangle from it and implement the area() method in both.\n",
        "Ans.\n",
        "\"\"\"\n",
        "from abc import ABC, abstractmethod\n",
        "import math\n",
        "\n",
        "# Abstract class Shape\n",
        "class Shape(ABC):\n",
        "    @abstractmethod\n",
        "    def area(self):\n",
        "        pass\n",
        "\n",
        "# Derived class Circle\n",
        "class Circle(Shape):\n",
        "    def __init__(self, radius):\n",
        "        self.radius = radius\n",
        "\n",
        "    def area(self):\n",
        "        return math.pi * (self.radius ** 2)\n",
        "\n",
        "# Derived class Rectangle\n",
        "class Rectangle(Shape):\n",
        "    def __init__(self, length, width):\n",
        "        self.length = length\n",
        "        self.width = width\n",
        "\n",
        "    def area(self):\n",
        "        return self.length * self.width\n",
        "\n",
        "# Creating objects of Circle and Rectangle\n",
        "circle = Circle(5)  # Circle with radius 5\n",
        "rectangle = Rectangle(4, 6)  # Rectangle with length 4 and width 6\n",
        "\n",
        "# Calling the area() method for each object\n",
        "print(f\"Area of the circle: {circle.area()}\")        # Output: Area of the circle: 78.53981633974483\n",
        "print(f\"Area of the rectangle: {rectangle.area()}\")  # Output: Area of the rectangle: 24\n"
      ],
      "metadata": {
        "colab": {
          "base_uri": "https://localhost:8080/"
        },
        "id": "osN8gp4eoeK5",
        "outputId": "2c63e2c3-b8b7-48b7-b252-dad63c397d5d"
      },
      "execution_count": 2,
      "outputs": [
        {
          "output_type": "stream",
          "name": "stdout",
          "text": [
            "Area of the circle: 78.53981633974483\n",
            "Area of the rectangle: 24\n"
          ]
        }
      ]
    },
    {
      "cell_type": "code",
      "source": [
        "\"\"\"\n",
        "Ques. 3. Implement a multi-level inheritance scenario where a class Vehicle has an attribute type. Derive a class Car and further derive a class ElectricCar that adds a battery attribute.\n",
        "Ans.\n",
        "\"\"\"\n",
        "# Base class Vehicle\n",
        "class Vehicle:\n",
        "    def __init__(self, vehicle_type):\n",
        "        self.vehicle_type = vehicle_type\n",
        "\n",
        "    def display_type(self):\n",
        "        print(f\"Vehicle type: {self.vehicle_type}\")\n",
        "\n",
        "# Derived class Car inherits from Vehicle\n",
        "class Car(Vehicle):\n",
        "    def __init__(self, vehicle_type, brand):\n",
        "        super().__init__(vehicle_type)  # Call constructor of Vehicle\n",
        "        self.brand = brand\n",
        "\n",
        "    def display_brand(self):\n",
        "        print(f\"Car brand: {self.brand}\")\n",
        "\n",
        "# Derived class ElectricCar inherits from Car\n",
        "class ElectricCar(Car):\n",
        "    def __init__(self, vehicle_type, brand, battery):\n",
        "        super().__init__(vehicle_type, brand)  # Call constructor of Car\n",
        "        self.battery = battery\n",
        "\n",
        "    def display_battery(self):\n",
        "        print(f\"Electric car battery: {self.battery} kWh\")\n",
        "\n",
        "# Creating an instance of ElectricCar\n",
        "electric_car = ElectricCar(\"Electric\", \"Tesla\", 75)\n",
        "\n",
        "# Calling methods from different levels of inheritance\n",
        "electric_car.display_type()     # Output: Vehicle type: Electric\n",
        "electric_car.display_brand()    # Output: Car brand: Tesla\n",
        "electric_car.display_battery()  # Output: Electric car battery: 75 kWh"
      ],
      "metadata": {
        "colab": {
          "base_uri": "https://localhost:8080/"
        },
        "id": "Qg4o68Miohzi",
        "outputId": "24e5c10b-b017-4ee4-9056-bc4ada0f7ce6"
      },
      "execution_count": 3,
      "outputs": [
        {
          "output_type": "stream",
          "name": "stdout",
          "text": [
            "Vehicle type: Electric\n",
            "Car brand: Tesla\n",
            "Electric car battery: 75 kWh\n"
          ]
        }
      ]
    },
    {
      "cell_type": "code",
      "source": [
        "\"\"\"\n",
        "Ques. 4. Implement a multi-level inheritance scenario where a class Vehicle has an attribute type. Derive a class Car and further derive a class ElectricCar that adds a battery attribute.\n",
        "Ans.\n",
        "\"\"\"\n",
        "# Base class Vehicle\n",
        "class Vehicle:\n",
        "    def __init__(self, vehicle_type):\n",
        "        self.vehicle_type = vehicle_type\n",
        "\n",
        "    def display_type(self):\n",
        "        print(f\"Vehicle type: {self.vehicle_type}\")\n",
        "\n",
        "# Derived class Car inherits from Vehicle\n",
        "class Car(Vehicle):\n",
        "    def __init__(self, vehicle_type, brand):\n",
        "        super().__init__(vehicle_type)  # Call constructor of Vehicle\n",
        "        self.brand = brand\n",
        "\n",
        "    def display_brand(self):\n",
        "        print(f\"Car brand: {self.brand}\")\n",
        "\n",
        "# Derived class ElectricCar inherits from Car\n",
        "class ElectricCar(Car):\n",
        "    def __init__(self, vehicle_type, brand, battery):\n",
        "        super().__init__(vehicle_type, brand)  # Call constructor of Car\n",
        "        self.battery = battery\n",
        "\n",
        "    def display_battery(self):\n",
        "        print(f\"Electric car battery: {self.battery} kWh\")\n",
        "\n",
        "# Creating an instance of ElectricCar\n",
        "electric_car = ElectricCar(\"Electric\", \"Tesla\", 75)\n",
        "\n",
        "# Calling methods from different levels of inheritance\n",
        "electric_car.display_type()     # Output: Vehicle type: Electric\n",
        "electric_car.display_brand()    # Output: Car brand: Tesla\n",
        "electric_car.display_battery()  # Output: Electric car battery: 75 kWh"
      ],
      "metadata": {
        "colab": {
          "base_uri": "https://localhost:8080/"
        },
        "id": "Y20EzDbFpnl5",
        "outputId": "2b7bbf2b-0573-409e-e327-074580a291e1"
      },
      "execution_count": 4,
      "outputs": [
        {
          "output_type": "stream",
          "name": "stdout",
          "text": [
            "Vehicle type: Electric\n",
            "Car brand: Tesla\n",
            "Electric car battery: 75 kWh\n"
          ]
        }
      ]
    },
    {
      "cell_type": "code",
      "source": [
        "\"\"\"\n",
        "Ques. 5. Write a program to demonstrate encapsulation by creating a class BankAccount with private attributes balance and methods to deposit, withdraw, and check balance.\n",
        "Ans.\n",
        "\"\"\"\n",
        "# Class BankAccount demonstrating encapsulation\n",
        "class BankAccount:\n",
        "    def __init__(self, owner, balance=0):\n",
        "        self.owner = owner\n",
        "        self.__balance = balance  # Private attribute with double underscore\n",
        "\n",
        "    # Method to deposit money\n",
        "    def deposit(self, amount):\n",
        "        if amount > 0:\n",
        "            self.__balance += amount\n",
        "            print(f\"Deposited {amount}. New balance: {self.__balance}\")\n",
        "        else:\n",
        "            print(\"Deposit amount must be positive.\")\n",
        "\n",
        "    # Method to withdraw money\n",
        "    def withdraw(self, amount):\n",
        "        if amount > 0:\n",
        "            if amount <= self.__balance:\n",
        "                self.__balance -= amount\n",
        "                print(f\"Withdrew {amount}. New balance: {self.__balance}\")\n",
        "            else:\n",
        "                print(\"Insufficient funds.\")\n",
        "        else:\n",
        "            print(\"Withdrawal amount must be positive.\")\n",
        "\n",
        "    # Method to check balance (getter)\n",
        "    def check_balance(self):\n",
        "        print(f\"Current balance: {self.__balance}\")\n",
        "\n",
        "# Creating an instance of BankAccount\n",
        "account = BankAccount(\"Manish Singh Koranga\", 500)\n",
        "\n",
        "# Depositing money\n",
        "account.deposit(200)  # Output: Deposited 200. New balance: 700\n",
        "\n",
        "# Withdrawing money\n",
        "account.withdraw(100)  # Output: Withdrew 100. New balance: 600\n",
        "\n",
        "# Checking balance\n",
        "account.check_balance()  # Output: Current balance: 600\n",
        "\n",
        "# Trying to withdraw more than available\n",
        "account.withdraw(700)  # Output: Insufficient funds.\n",
        "\n",
        "# Trying to deposit a negative amount\n",
        "account.deposit(-50)  # Output: Deposit amount must be positive."
      ],
      "metadata": {
        "colab": {
          "base_uri": "https://localhost:8080/"
        },
        "id": "0tp7BlYXptNV",
        "outputId": "4d9bd59e-d555-4b6e-f221-f254ac2112ae"
      },
      "execution_count": 5,
      "outputs": [
        {
          "output_type": "stream",
          "name": "stdout",
          "text": [
            "Deposited 200. New balance: 700\n",
            "Withdrew 100. New balance: 600\n",
            "Current balance: 600\n",
            "Insufficient funds.\n",
            "Deposit amount must be positive.\n"
          ]
        }
      ]
    },
    {
      "cell_type": "code",
      "source": [
        "\"\"\"\n",
        "Ques. 6. Demonstrate runtime polymorphism using a method play() in a base class Instrument. Derive classes Guitar and Piano that implement their own version of play().\n",
        "Ans.\n",
        "\"\"\"\n",
        "# Base class Instrument\n",
        "class Instrument:\n",
        "    def play(self):\n",
        "        print(\"Playing instrument...\")\n",
        "\n",
        "# Derived class Guitar\n",
        "class Guitar(Instrument):\n",
        "    def play(self):\n",
        "        print(\"Strumming the guitar!\")\n",
        "\n",
        "# Derived class Piano\n",
        "class Piano(Instrument):\n",
        "    def play(self):\n",
        "        print(\"Playing the piano!\")\n",
        "\n",
        "# Function to demonstrate runtime polymorphism\n",
        "def demonstrate_play(instrument):\n",
        "    instrument.play()\n",
        "\n",
        "# Creating instances of Guitar and Piano\n",
        "guitar = Guitar()\n",
        "piano = Piano()\n",
        "\n",
        "# Demonstrating runtime polymorphism\n",
        "demonstrate_play(guitar)  # Output: Strumming the guitar!\n",
        "demonstrate_play(piano)   # Output: Playing the piano!"
      ],
      "metadata": {
        "colab": {
          "base_uri": "https://localhost:8080/"
        },
        "id": "obpZgVs8pyPN",
        "outputId": "34a121a3-6941-40e6-9d84-28ad93ed93c0"
      },
      "execution_count": 6,
      "outputs": [
        {
          "output_type": "stream",
          "name": "stdout",
          "text": [
            "Strumming the guitar!\n",
            "Playing the piano!\n"
          ]
        }
      ]
    },
    {
      "cell_type": "code",
      "source": [
        "\"\"\"\n",
        "Ques. 7. Create a class MathOperations with a class method add_numbers() to add two numbers and a static method subtract_numbers() to subtract two numbers.\n",
        "Ans.\n",
        "\"\"\"\n",
        "class MathOperations:\n",
        "    # Class method to add two numbers\n",
        "    @classmethod\n",
        "    def add_numbers(cls, num1, num2):\n",
        "        return num1 + num2\n",
        "\n",
        "    # Static method to subtract two numbers\n",
        "    @staticmethod\n",
        "    def subtract_numbers(num1, num2):\n",
        "        return num1 - num2\n",
        "\n",
        "# Demonstrating the use of class method and static method\n",
        "result_add = MathOperations.add_numbers(5, 3)   # Calling class method\n",
        "result_subtract = MathOperations.subtract_numbers(5, 3)  # Calling static method\n",
        "\n",
        "print(f\"Addition result: {result_add}\")          # Output: Addition result: 8\n",
        "print(f\"Subtraction result: {result_subtract}\")  # Output: Subtraction result: 2"
      ],
      "metadata": {
        "colab": {
          "base_uri": "https://localhost:8080/"
        },
        "id": "YryCBiofp3DD",
        "outputId": "3c713e24-e541-43c1-b642-454c21174842"
      },
      "execution_count": 7,
      "outputs": [
        {
          "output_type": "stream",
          "name": "stdout",
          "text": [
            "Addition result: 8\n",
            "Subtraction result: 2\n"
          ]
        }
      ]
    },
    {
      "cell_type": "code",
      "source": [
        "\"\"\"\n",
        "Ques. 8. Implement a class Person with a class method to count the total number of persons created.\n",
        "Ans.\n",
        "\"\"\"\n",
        "class Person:\n",
        "    # Class variable to count the number of persons created\n",
        "    total_persons = 0\n",
        "\n",
        "    def __init__(self, name, age):\n",
        "        self.name = name\n",
        "        self.age = age\n",
        "        Person.total_persons += 1  # Increment the total count whenever a new object is created\n",
        "\n",
        "    # Class method to get the total number of persons created\n",
        "    @classmethod\n",
        "    def get_total_persons(cls):\n",
        "        return cls.total_persons\n",
        "\n",
        "# Creating instances of Person\n",
        "person1 = Person(\"Himanshu\", 30)\n",
        "person2 = Person(\"Manish\", 25)\n",
        "person3 = Person(\"Komal\", 35)\n",
        "\n",
        "# Calling the class method to get the total number of persons created\n",
        "total = Person.get_total_persons()\n",
        "print(f\"Total persons created: {total}\")  # Output: Total persons created: 3"
      ],
      "metadata": {
        "colab": {
          "base_uri": "https://localhost:8080/"
        },
        "id": "H4JXShGqp61s",
        "outputId": "491a1242-c377-4ce3-860e-5a6cd880ad88"
      },
      "execution_count": 11,
      "outputs": [
        {
          "output_type": "stream",
          "name": "stdout",
          "text": [
            "Total persons created: 3\n"
          ]
        }
      ]
    },
    {
      "cell_type": "code",
      "source": [
        "\"\"\"\n",
        "Ques. 9. Write a class Fraction with attributes numerator and denominator. Override the str method to display the fraction as \"numerator/denominator\".\n",
        "Ans.\n",
        "\"\"\"\n",
        "class Fraction:\n",
        "    def __init__(self, numerator, denominator):\n",
        "        # Initialize the numerator and denominator attributes\n",
        "        self.numerator = numerator\n",
        "        self.denominator = denominator\n",
        "\n",
        "    # Override the __str__ method to display the fraction\n",
        "    def __str__(self):\n",
        "        return f\"{self.numerator}/{self.denominator}\"\n",
        "\n",
        "# Creating instances of the Fraction class\n",
        "fraction1 = Fraction(3, 4)\n",
        "fraction2 = Fraction(5, 8)\n",
        "\n",
        "# Printing the fractions\n",
        "print(f\"Fraction 1: {fraction1}\")  # Output: Fraction 1: 3/4\n",
        "print(f\"Fraction 2: {fraction2}\")  # Output: Fraction 2: 5/8"
      ],
      "metadata": {
        "colab": {
          "base_uri": "https://localhost:8080/"
        },
        "id": "BSkB6Skvp94R",
        "outputId": "92c813ba-f75e-49c7-c99a-2a3d7670cfcf"
      },
      "execution_count": 12,
      "outputs": [
        {
          "output_type": "stream",
          "name": "stdout",
          "text": [
            "Fraction 1: 3/4\n",
            "Fraction 2: 5/8\n"
          ]
        }
      ]
    },
    {
      "cell_type": "code",
      "source": [
        "\"\"\"\n",
        "Ques. 10. Demonstrate operator overloading by creating a class Vector and overriding the add method to add two vectors.\n",
        "Ans.\n",
        "\"\"\"\n",
        "class Vector:\n",
        "    def __init__(self, x, y):\n",
        "        # Initialize the vector with x and y components\n",
        "        self.x = x\n",
        "        self.y = y\n",
        "\n",
        "    # Overloading the + operator using the __add__ method\n",
        "    def __add__(self, other):\n",
        "        # Add the x components and y components of both vectors\n",
        "        return Vector(self.x + other.x, self.y + other.y)\n",
        "\n",
        "    # Method to display the vector as a string (for easy printing)\n",
        "    def __str__(self):\n",
        "        return f\"({self.x}, {self.y})\"\n",
        "\n",
        "# Creating two vector instances\n",
        "vector1 = Vector(2, 3)\n",
        "vector2 = Vector(4, 5)\n",
        "\n",
        "# Adding the two vectors using the overloaded + operator\n",
        "result_vector = vector1 + vector2\n",
        "\n",
        "# Printing the result\n",
        "print(f\"Vector 1: {vector1}\")  # Output: Vector 1: (2, 3)\n",
        "print(f\"Vector 2: {vector2}\")  # Output: Vector 2: (4, 5)\n",
        "print(f\"Result of addition: {result_vector}\")  # Output: Result of addition: (6, 8)"
      ],
      "metadata": {
        "colab": {
          "base_uri": "https://localhost:8080/"
        },
        "id": "a28XgBbfqBC2",
        "outputId": "8d30f4e5-e823-4ee9-82e0-ea35b1565d67"
      },
      "execution_count": 13,
      "outputs": [
        {
          "output_type": "stream",
          "name": "stdout",
          "text": [
            "Vector 1: (2, 3)\n",
            "Vector 2: (4, 5)\n",
            "Result of addition: (6, 8)\n"
          ]
        }
      ]
    },
    {
      "cell_type": "code",
      "source": [
        "\"\"\"\n",
        "Ques. 11. Create a class Person with attributes name and age. Add a method greet() that prints \"Hello, my name is {name} and I am {age} years old.\"\n",
        "Ans.\n",
        "\"\"\"\n",
        "class Person:\n",
        "    def __init__(self, name, age):\n",
        "        self.name = name\n",
        "        self.age = age\n",
        "\n",
        "    def greet(self):\n",
        "        print(f\"Hello, my name is {self.name} and I am {self.age} years old.\")\n",
        "\n",
        "# Creating an instance of Person\n",
        "person = Person(\"Manish\", 25)\n",
        "person.greet()  # Output: Hello, my name is John and I am 25 years old."
      ],
      "metadata": {
        "colab": {
          "base_uri": "https://localhost:8080/"
        },
        "id": "pc8M65uVrwlU",
        "outputId": "aa0e48bb-5aa1-4540-90d5-8cae4bc519ee"
      },
      "execution_count": 14,
      "outputs": [
        {
          "output_type": "stream",
          "name": "stdout",
          "text": [
            "Hello, my name is Manish and I am 25 years old.\n"
          ]
        }
      ]
    },
    {
      "cell_type": "code",
      "source": [
        "\"\"\"\n",
        "Ques. 12. Implement a class Student with attributes name and grades. Create a method average_grade() to compute the average of the grades.\n",
        "Ans.\n",
        "\"\"\"\n",
        "class Student:\n",
        "    def __init__(self, name, grades):\n",
        "        self.name = name\n",
        "        self.grades = grades\n",
        "\n",
        "    def average_grade(self):\n",
        "        return sum(self.grades) / len(self.grades)\n",
        "\n",
        "# Creating an instance of Student\n",
        "student = Student(\"Manish\", [85, 90, 78, 92, 88])\n",
        "print(f\"Average grade: {student.average_grade()}\")  # Output: Average grade: 86.6"
      ],
      "metadata": {
        "colab": {
          "base_uri": "https://localhost:8080/"
        },
        "id": "QGQldjbZryAS",
        "outputId": "8d942385-b690-49d5-c7b1-93990186dbd4"
      },
      "execution_count": 15,
      "outputs": [
        {
          "output_type": "stream",
          "name": "stdout",
          "text": [
            "Average grade: 86.6\n"
          ]
        }
      ]
    },
    {
      "cell_type": "code",
      "source": [
        "\"\"\"\n",
        "Ques. 13. Create a class Rectangle with methods set_dimensions() to set the dimensions and area() to calculate the area.\n",
        "Ans.\n",
        "\"\"\"\n",
        "class Rectangle:\n",
        "    def __init__(self):\n",
        "        self.length = 0\n",
        "        self.width = 0\n",
        "\n",
        "    def set_dimensions(self, length, width):\n",
        "        self.length = length\n",
        "        self.width = width\n",
        "\n",
        "    def area(self):\n",
        "        return self.length * self.width\n",
        "\n",
        "# Creating an instance of Rectangle\n",
        "rectangle = Rectangle()\n",
        "rectangle.set_dimensions(4, 5)\n",
        "print(f\"Area of rectangle: {rectangle.area()}\")  # Output: Area of rectangle: 20"
      ],
      "metadata": {
        "colab": {
          "base_uri": "https://localhost:8080/"
        },
        "id": "aTb7-A4RryyV",
        "outputId": "592cb70f-3acd-4370-96bc-1feab2006f7d"
      },
      "execution_count": 16,
      "outputs": [
        {
          "output_type": "stream",
          "name": "stdout",
          "text": [
            "Area of rectangle: 20\n"
          ]
        }
      ]
    },
    {
      "cell_type": "code",
      "source": [
        "\"\"\"\n",
        "Ques. 14. Create a class Employee with a method calculate_salary() that computes the salary based on hours worked and hourly rate. Create a derived class Manager that adds a bonus to the salary.\n",
        "Ans.\n",
        "\"\"\"\n",
        "class Employee:\n",
        "    def __init__(self, hours_worked, hourly_rate):\n",
        "        self.hours_worked = hours_worked\n",
        "        self.hourly_rate = hourly_rate\n",
        "\n",
        "    def calculate_salary(self):\n",
        "        return self.hours_worked * self.hourly_rate\n",
        "\n",
        "class Manager(Employee):\n",
        "    def __init__(self, hours_worked, hourly_rate, bonus):\n",
        "        super().__init__(hours_worked, hourly_rate)\n",
        "        self.bonus = bonus\n",
        "\n",
        "    def calculate_salary(self):\n",
        "        return super().calculate_salary() + self.bonus\n",
        "\n",
        "# Creating an instance of Manager\n",
        "manager = Manager(40, 50, 500)\n",
        "print(f\"Manager's salary: {manager.calculate_salary()}\")  # Output: Manager's salary: 2500"
      ],
      "metadata": {
        "colab": {
          "base_uri": "https://localhost:8080/"
        },
        "id": "51YIuy51rzdB",
        "outputId": "fa7819a9-7206-4894-cab3-0c904886eab6"
      },
      "execution_count": 17,
      "outputs": [
        {
          "output_type": "stream",
          "name": "stdout",
          "text": [
            "Manager's salary: 2500\n"
          ]
        }
      ]
    },
    {
      "cell_type": "code",
      "source": [
        "\"\"\"\n",
        "Ques. 15. Create a class Product with attributes name, price, and quantity. Implement a method total_price() that calculates the total price of the product.\n",
        "Ans.\n",
        "\"\"\"\n",
        "class Product:\n",
        "    def __init__(self, name, price, quantity):\n",
        "        self.name = name\n",
        "        self.price = price\n",
        "        self.quantity = quantity\n",
        "\n",
        "    def total_price(self):\n",
        "        return self.price * self.quantity\n",
        "\n",
        "# Creating an instance of Product\n",
        "product = Product(\"Laptop\", 1000, 3)\n",
        "print(f\"Total price: {product.total_price()}\")  # Output: Total price: 3000"
      ],
      "metadata": {
        "colab": {
          "base_uri": "https://localhost:8080/"
        },
        "id": "wse4i90or0EU",
        "outputId": "2ec9c1c6-06f7-4ecc-a3e4-7ca007b33c9a"
      },
      "execution_count": 18,
      "outputs": [
        {
          "output_type": "stream",
          "name": "stdout",
          "text": [
            "Total price: 3000\n"
          ]
        }
      ]
    },
    {
      "cell_type": "code",
      "source": [
        "\"\"\"\n",
        "Ques. 16. Create a class Animal with an abstract method sound(). Create two derived classes Cow and Sheep that implement the sound() method.\n",
        "Ans.\n",
        "\"\"\"\n",
        "from abc import ABC, abstractmethod\n",
        "\n",
        "class Animal(ABC):\n",
        "    @abstractmethod\n",
        "    def sound(self):\n",
        "        pass\n",
        "\n",
        "class Cow(Animal):\n",
        "    def sound(self):\n",
        "        return \"Moo\"\n",
        "\n",
        "class Sheep(Animal):\n",
        "    def sound(self):\n",
        "        return \"Baa\"\n",
        "\n",
        "# Creating instances of Cow and Sheep\n",
        "cow = Cow()\n",
        "sheep = Sheep()\n",
        "\n",
        "print(cow.sound())  # Output: Moo\n",
        "print(sheep.sound())  # Output: Baa"
      ],
      "metadata": {
        "colab": {
          "base_uri": "https://localhost:8080/"
        },
        "id": "T2lUte7Tr049",
        "outputId": "fe429182-a8de-427b-ece4-f56fe361b935"
      },
      "execution_count": 19,
      "outputs": [
        {
          "output_type": "stream",
          "name": "stdout",
          "text": [
            "Moo\n",
            "Baa\n"
          ]
        }
      ]
    },
    {
      "cell_type": "code",
      "source": [
        "\"\"\"\n",
        "Ques. 17. Create a class Book with attributes title, author, and year_published. Add a method get_book_info() that returns a formatted string with the book's details.\n",
        "Ans.\n",
        "\"\"\"\n",
        "class Book:\n",
        "    def __init__(self, title, author, year_published):\n",
        "        self.title = title\n",
        "        self.author = author\n",
        "        self.year_published = year_published\n",
        "\n",
        "    def get_book_info(self):\n",
        "        return f\"Title: {self.title}, Author: {self.author}, Year Published: {self.year_published}\"\n",
        "\n",
        "# Creating an instance of Book\n",
        "book = Book(\"The Great Gatsby\", \"F. Scott Fitzgerald\", 1925)\n",
        "print(book.get_book_info())  # Output: Title: The Great Gatsby, Author: F. Scott Fitzgerald, Year Published: 1925"
      ],
      "metadata": {
        "colab": {
          "base_uri": "https://localhost:8080/"
        },
        "id": "qYagAAxOr1rZ",
        "outputId": "635795ab-2e31-4e19-e865-5e99480a0d07"
      },
      "execution_count": 20,
      "outputs": [
        {
          "output_type": "stream",
          "name": "stdout",
          "text": [
            "Title: The Great Gatsby, Author: F. Scott Fitzgerald, Year Published: 1925\n"
          ]
        }
      ]
    },
    {
      "cell_type": "code",
      "source": [
        "\"\"\"\n",
        "Ques. 18. Create a class House with attributes address and price. Create a derived class Mansion that adds an attribute number_of_rooms.\n",
        "Ans.\n",
        "\"\"\"\n",
        "class House:\n",
        "    def __init__(self, address, price):\n",
        "        self.address = address\n",
        "        self.price = price\n",
        "\n",
        "class Mansion(House):\n",
        "    def __init__(self, address, price, number_of_rooms):\n",
        "        super().__init__(address, price)\n",
        "        self.number_of_rooms = number_of_rooms\n",
        "\n",
        "# Creating an instance of Mansion\n",
        "mansion = Mansion(\"412-L Model Town\", 5000000, 10)\n",
        "print(f\"Mansion address: {mansion.address}, Price: {mansion.price}, Rooms: {mansion.number_of_rooms}\")\n",
        "# Output: Mansion address: 412-L Model Town, Price: 5000000, Rooms: 10\n"
      ],
      "metadata": {
        "colab": {
          "base_uri": "https://localhost:8080/"
        },
        "id": "dBJ18vMgr2V8",
        "outputId": "7fcffea2-543a-4c92-ab99-d00e7c9443e8"
      },
      "execution_count": 22,
      "outputs": [
        {
          "output_type": "stream",
          "name": "stdout",
          "text": [
            "Mansion address: 412-L Model Town, Price: 5000000, Rooms: 10\n"
          ]
        }
      ]
    }
  ]
}